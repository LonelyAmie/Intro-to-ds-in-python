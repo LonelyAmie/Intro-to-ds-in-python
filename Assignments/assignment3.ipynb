{
 "cells": [
  {
   "cell_type": "markdown",
   "metadata": {
    "deletable": false,
    "editable": false,
    "nbgrader": {
     "cell_type": "markdown",
     "checksum": "ab80976c194c2c1bfebb7f3a12fc4e58",
     "grade": false,
     "grade_id": "cell-018440ed2f1b6a62",
     "locked": true,
     "schema_version": 3,
     "solution": false
    }
   },
   "source": [
    "# Assignment 3\n",
    "All questions are weighted the same in this assignment. This assignment requires more individual learning then the last one did - you are encouraged to check out the [pandas documentation](http://pandas.pydata.org/pandas-docs/stable/) to find functions or methods you might not have used yet, or ask questions on [Stack Overflow](http://stackoverflow.com/) and tag them as pandas and python related. All questions are worth the same number of points except question 1 which is worth 17% of the assignment grade.\n",
    "\n",
    "**Note**: Questions 2-13 rely on your question 1 answer."
   ]
  },
  {
   "cell_type": "code",
   "execution_count": 1,
   "metadata": {},
   "outputs": [],
   "source": [
    "import pandas as pd\n",
    "import numpy as np\n",
    "from functools import reduce\n",
    "\n",
    "# Filter all warnings. If you would like to see the warnings, please comment the two lines below.\n",
    "import warnings\n",
    "warnings.filterwarnings('ignore')"
   ]
  },
  {
   "cell_type": "markdown",
   "metadata": {
    "deletable": false,
    "editable": false,
    "nbgrader": {
     "cell_type": "markdown",
     "checksum": "68063b8b0783f3d8122b516e0cce5f45",
     "grade": false,
     "grade_id": "cell-7e5190c7ff1f2e42",
     "locked": true,
     "schema_version": 3,
     "solution": false
    }
   },
   "source": [
    "### Question 1\n",
    "Load the energy data from the file `assets/Energy Indicators.xls`, which is a list of indicators of [energy supply and renewable electricity production](assets/Energy%20Indicators.xls) from the [United Nations](http://unstats.un.org/unsd/environment/excel_file_tables/2013/Energy%20Indicators.xls) for the year 2013, and should be put into a DataFrame with the variable name of **Energy**.\n",
    "\n",
    "Keep in mind that this is an Excel file, and not a comma separated values file. Also, make sure to exclude the footer and header information from the datafile. The first two columns are unneccessary, so you should get rid of them, and you should change the column labels so that the columns are:\n",
    "\n",
    "`['Country', 'Energy Supply', 'Energy Supply per Capita', '% Renewable]`\n",
    "\n",
    "Convert `Energy Supply` to gigajoules (**Note: there are 1,000,000 gigajoules in a petajoule**). For all countries which have missing data (e.g. data with \"...\") make sure this is reflected as `np.NaN` values.\n",
    "\n",
    "Rename the following list of countries (for use in later questions):\n",
    "\n",
    "```\"Republic of Korea\": \"South Korea\",\n",
    "\"United States of America\": \"United States\",\n",
    "\"United Kingdom of Great Britain and Northern Ireland\": \"United Kingdom\",\n",
    "\"China, Hong Kong Special Administrative Region\": \"Hong Kong\"```\n",
    "\n",
    "There are also several countries with parenthesis in their name. Be sure to remove these, e.g. `'Bolivia (Plurinational State of)'` should be `'Bolivia'`.\n",
    "\n",
    "Next, load the GDP data from the file `assets/world_bank.csv`, which is a csv containing countries' GDP from 1960 to 2015 from [World Bank](http://data.worldbank.org/indicator/NY.GDP.MKTP.CD). Call this DataFrame **GDP**. \n",
    "\n",
    "Make sure to skip the header, and rename the following list of countries:\n",
    "\n",
    "```\"Korea, Rep.\": \"South Korea\", \n",
    "\"Iran, Islamic Rep.\": \"Iran\",\n",
    "\"Hong Kong SAR, China\": \"Hong Kong\"```\n",
    "\n",
    "Finally, load the [Sciamgo Journal and Country Rank data for Energy Engineering and Power Technology](http://www.scimagojr.com/countryrank.php?category=2102) from the file `assets/scimagojr-3.xlsx`, which ranks countries based on their journal contributions in the aforementioned area. Call this DataFrame **ScimEn**.\n",
    "\n",
    "Join the three datasets: GDP, Energy, and ScimEn into a new dataset (using the intersection of country names). Use only the last 10 years (2006-2015) of GDP data and only the top 15 countries by Scimagojr 'Rank' (Rank 1 through 15). \n",
    "\n",
    "The index of this DataFrame should be the name of the country, and the columns should be ['Rank', 'Documents', 'Citable documents', 'Citations', 'Self-citations',\n",
    "       'Citations per document', 'H index', 'Energy Supply',\n",
    "       'Energy Supply per Capita', '% Renewable', '2006', '2007', '2008',\n",
    "       '2009', '2010', '2011', '2012', '2013', '2014', '2015'].\n",
    "\n",
    "*This function should return a DataFrame with 20 columns and 15 entries, and the rows of the DataFrame should be sorted by \"Rank\".*"
   ]
  },
  {
   "cell_type": "code",
   "execution_count": 154,
   "metadata": {},
   "outputs": [
    {
     "data": {
      "text/html": [
       "<div>\n",
       "<style scoped>\n",
       "    .dataframe tbody tr th:only-of-type {\n",
       "        vertical-align: middle;\n",
       "    }\n",
       "\n",
       "    .dataframe tbody tr th {\n",
       "        vertical-align: top;\n",
       "    }\n",
       "\n",
       "    .dataframe thead th {\n",
       "        text-align: right;\n",
       "    }\n",
       "</style>\n",
       "<table border=\"1\" class=\"dataframe\">\n",
       "  <thead>\n",
       "    <tr style=\"text-align: right;\">\n",
       "      <th></th>\n",
       "      <th>Rank</th>\n",
       "      <th>Country</th>\n",
       "      <th>Documents</th>\n",
       "      <th>Citable documents</th>\n",
       "      <th>Citations</th>\n",
       "      <th>Self-citations</th>\n",
       "      <th>Citations per document</th>\n",
       "      <th>H index</th>\n",
       "      <th>Energy Supply</th>\n",
       "      <th>Energy Supply per Capita</th>\n",
       "      <th>...</th>\n",
       "      <th>2006</th>\n",
       "      <th>2007</th>\n",
       "      <th>2008</th>\n",
       "      <th>2009</th>\n",
       "      <th>2010</th>\n",
       "      <th>2011</th>\n",
       "      <th>2012</th>\n",
       "      <th>2013</th>\n",
       "      <th>2014</th>\n",
       "      <th>2015</th>\n",
       "    </tr>\n",
       "  </thead>\n",
       "  <tbody>\n",
       "    <tr>\n",
       "      <th>0</th>\n",
       "      <td>1.0</td>\n",
       "      <td>China</td>\n",
       "      <td>127050.0</td>\n",
       "      <td>126767.0</td>\n",
       "      <td>597237.0</td>\n",
       "      <td>411683.0</td>\n",
       "      <td>4.70</td>\n",
       "      <td>138.0</td>\n",
       "      <td>1.271910e+11</td>\n",
       "      <td>93.0</td>\n",
       "      <td>...</td>\n",
       "      <td>3.992331e+12</td>\n",
       "      <td>4.559041e+12</td>\n",
       "      <td>4.997775e+12</td>\n",
       "      <td>5.459247e+12</td>\n",
       "      <td>6.039659e+12</td>\n",
       "      <td>6.612490e+12</td>\n",
       "      <td>7.124978e+12</td>\n",
       "      <td>7.672448e+12</td>\n",
       "      <td>8.230121e+12</td>\n",
       "      <td>8.797999e+12</td>\n",
       "    </tr>\n",
       "    <tr>\n",
       "      <th>1</th>\n",
       "      <td>2.0</td>\n",
       "      <td>United States</td>\n",
       "      <td>96661.0</td>\n",
       "      <td>94747.0</td>\n",
       "      <td>792274.0</td>\n",
       "      <td>265436.0</td>\n",
       "      <td>8.20</td>\n",
       "      <td>230.0</td>\n",
       "      <td>9.083800e+10</td>\n",
       "      <td>286.0</td>\n",
       "      <td>...</td>\n",
       "      <td>1.479230e+13</td>\n",
       "      <td>1.505540e+13</td>\n",
       "      <td>1.501149e+13</td>\n",
       "      <td>1.459484e+13</td>\n",
       "      <td>1.496437e+13</td>\n",
       "      <td>1.520402e+13</td>\n",
       "      <td>1.554216e+13</td>\n",
       "      <td>1.577367e+13</td>\n",
       "      <td>1.615662e+13</td>\n",
       "      <td>1.654857e+13</td>\n",
       "    </tr>\n",
       "    <tr>\n",
       "      <th>2</th>\n",
       "      <td>3.0</td>\n",
       "      <td>Japan</td>\n",
       "      <td>30504.0</td>\n",
       "      <td>30287.0</td>\n",
       "      <td>223024.0</td>\n",
       "      <td>61554.0</td>\n",
       "      <td>7.31</td>\n",
       "      <td>134.0</td>\n",
       "      <td>1.898400e+10</td>\n",
       "      <td>149.0</td>\n",
       "      <td>...</td>\n",
       "      <td>5.496542e+12</td>\n",
       "      <td>5.617036e+12</td>\n",
       "      <td>5.558527e+12</td>\n",
       "      <td>5.251308e+12</td>\n",
       "      <td>5.498718e+12</td>\n",
       "      <td>5.473738e+12</td>\n",
       "      <td>5.569102e+12</td>\n",
       "      <td>5.644659e+12</td>\n",
       "      <td>5.642884e+12</td>\n",
       "      <td>5.669563e+12</td>\n",
       "    </tr>\n",
       "    <tr>\n",
       "      <th>3</th>\n",
       "      <td>4.0</td>\n",
       "      <td>United Kingdom</td>\n",
       "      <td>20944.0</td>\n",
       "      <td>20357.0</td>\n",
       "      <td>206091.0</td>\n",
       "      <td>37874.0</td>\n",
       "      <td>9.84</td>\n",
       "      <td>139.0</td>\n",
       "      <td>7.920000e+09</td>\n",
       "      <td>124.0</td>\n",
       "      <td>...</td>\n",
       "      <td>2.419631e+12</td>\n",
       "      <td>2.482203e+12</td>\n",
       "      <td>2.470614e+12</td>\n",
       "      <td>2.367048e+12</td>\n",
       "      <td>2.403504e+12</td>\n",
       "      <td>2.450911e+12</td>\n",
       "      <td>2.479809e+12</td>\n",
       "      <td>2.533370e+12</td>\n",
       "      <td>2.605643e+12</td>\n",
       "      <td>2.666333e+12</td>\n",
       "    </tr>\n",
       "    <tr>\n",
       "      <th>4</th>\n",
       "      <td>5.0</td>\n",
       "      <td>Russian Federation</td>\n",
       "      <td>18534.0</td>\n",
       "      <td>18301.0</td>\n",
       "      <td>34266.0</td>\n",
       "      <td>12422.0</td>\n",
       "      <td>1.85</td>\n",
       "      <td>57.0</td>\n",
       "      <td>3.070900e+10</td>\n",
       "      <td>214.0</td>\n",
       "      <td>...</td>\n",
       "      <td>1.385793e+12</td>\n",
       "      <td>1.504071e+12</td>\n",
       "      <td>1.583004e+12</td>\n",
       "      <td>1.459199e+12</td>\n",
       "      <td>1.524917e+12</td>\n",
       "      <td>1.589943e+12</td>\n",
       "      <td>1.645876e+12</td>\n",
       "      <td>1.666934e+12</td>\n",
       "      <td>1.678709e+12</td>\n",
       "      <td>1.616149e+12</td>\n",
       "    </tr>\n",
       "    <tr>\n",
       "      <th>...</th>\n",
       "      <td>...</td>\n",
       "      <td>...</td>\n",
       "      <td>...</td>\n",
       "      <td>...</td>\n",
       "      <td>...</td>\n",
       "      <td>...</td>\n",
       "      <td>...</td>\n",
       "      <td>...</td>\n",
       "      <td>...</td>\n",
       "      <td>...</td>\n",
       "      <td>...</td>\n",
       "      <td>...</td>\n",
       "      <td>...</td>\n",
       "      <td>...</td>\n",
       "      <td>...</td>\n",
       "      <td>...</td>\n",
       "      <td>...</td>\n",
       "      <td>...</td>\n",
       "      <td>...</td>\n",
       "      <td>...</td>\n",
       "      <td>...</td>\n",
       "    </tr>\n",
       "    <tr>\n",
       "      <th>314</th>\n",
       "      <td>NaN</td>\n",
       "      <td>Vietnam</td>\n",
       "      <td>NaN</td>\n",
       "      <td>NaN</td>\n",
       "      <td>NaN</td>\n",
       "      <td>NaN</td>\n",
       "      <td>NaN</td>\n",
       "      <td>NaN</td>\n",
       "      <td>NaN</td>\n",
       "      <td>NaN</td>\n",
       "      <td>...</td>\n",
       "      <td>9.130761e+10</td>\n",
       "      <td>9.781739e+10</td>\n",
       "      <td>1.033556e+11</td>\n",
       "      <td>1.089346e+11</td>\n",
       "      <td>1.159317e+11</td>\n",
       "      <td>1.231662e+11</td>\n",
       "      <td>1.296292e+11</td>\n",
       "      <td>1.366576e+11</td>\n",
       "      <td>1.448347e+11</td>\n",
       "      <td>1.545086e+11</td>\n",
       "    </tr>\n",
       "    <tr>\n",
       "      <th>315</th>\n",
       "      <td>NaN</td>\n",
       "      <td>West Bank and Gaza</td>\n",
       "      <td>NaN</td>\n",
       "      <td>NaN</td>\n",
       "      <td>NaN</td>\n",
       "      <td>NaN</td>\n",
       "      <td>NaN</td>\n",
       "      <td>NaN</td>\n",
       "      <td>NaN</td>\n",
       "      <td>NaN</td>\n",
       "      <td>...</td>\n",
       "      <td>8.016675e+09</td>\n",
       "      <td>7.878227e+09</td>\n",
       "      <td>7.201473e+09</td>\n",
       "      <td>8.709518e+09</td>\n",
       "      <td>8.913100e+09</td>\n",
       "      <td>9.611505e+09</td>\n",
       "      <td>1.100864e+10</td>\n",
       "      <td>1.053747e+10</td>\n",
       "      <td>1.042246e+10</td>\n",
       "      <td>1.171414e+10</td>\n",
       "    </tr>\n",
       "    <tr>\n",
       "      <th>316</th>\n",
       "      <td>NaN</td>\n",
       "      <td>World</td>\n",
       "      <td>NaN</td>\n",
       "      <td>NaN</td>\n",
       "      <td>NaN</td>\n",
       "      <td>NaN</td>\n",
       "      <td>NaN</td>\n",
       "      <td>NaN</td>\n",
       "      <td>NaN</td>\n",
       "      <td>NaN</td>\n",
       "      <td>...</td>\n",
       "      <td>6.023536e+13</td>\n",
       "      <td>6.282865e+13</td>\n",
       "      <td>6.398692e+13</td>\n",
       "      <td>6.291271e+13</td>\n",
       "      <td>6.564782e+13</td>\n",
       "      <td>6.770244e+13</td>\n",
       "      <td>6.937886e+13</td>\n",
       "      <td>7.104232e+13</td>\n",
       "      <td>7.291072e+13</td>\n",
       "      <td>7.470901e+13</td>\n",
       "    </tr>\n",
       "    <tr>\n",
       "      <th>317</th>\n",
       "      <td>NaN</td>\n",
       "      <td>Yemen, Rep.</td>\n",
       "      <td>NaN</td>\n",
       "      <td>NaN</td>\n",
       "      <td>NaN</td>\n",
       "      <td>NaN</td>\n",
       "      <td>NaN</td>\n",
       "      <td>NaN</td>\n",
       "      <td>NaN</td>\n",
       "      <td>NaN</td>\n",
       "      <td>...</td>\n",
       "      <td>2.672565e+10</td>\n",
       "      <td>2.761787e+10</td>\n",
       "      <td>2.872656e+10</td>\n",
       "      <td>2.991436e+10</td>\n",
       "      <td>3.090675e+10</td>\n",
       "      <td>2.624342e+10</td>\n",
       "      <td>2.689160e+10</td>\n",
       "      <td>2.800914e+10</td>\n",
       "      <td>NaN</td>\n",
       "      <td>NaN</td>\n",
       "    </tr>\n",
       "    <tr>\n",
       "      <th>318</th>\n",
       "      <td>NaN</td>\n",
       "      <td>Congo, Dem. Rep.</td>\n",
       "      <td>NaN</td>\n",
       "      <td>NaN</td>\n",
       "      <td>NaN</td>\n",
       "      <td>NaN</td>\n",
       "      <td>NaN</td>\n",
       "      <td>NaN</td>\n",
       "      <td>NaN</td>\n",
       "      <td>NaN</td>\n",
       "      <td>...</td>\n",
       "      <td>1.650894e+10</td>\n",
       "      <td>1.754232e+10</td>\n",
       "      <td>1.863448e+10</td>\n",
       "      <td>1.916651e+10</td>\n",
       "      <td>2.052329e+10</td>\n",
       "      <td>2.193213e+10</td>\n",
       "      <td>2.350200e+10</td>\n",
       "      <td>2.550050e+10</td>\n",
       "      <td>2.778776e+10</td>\n",
       "      <td>2.970961e+10</td>\n",
       "    </tr>\n",
       "  </tbody>\n",
       "</table>\n",
       "<p>319 rows × 70 columns</p>\n",
       "</div>"
      ],
      "text/plain": [
       "     Rank             Country  Documents  Citable documents  Citations  \\\n",
       "0     1.0               China   127050.0           126767.0   597237.0   \n",
       "1     2.0       United States    96661.0            94747.0   792274.0   \n",
       "2     3.0               Japan    30504.0            30287.0   223024.0   \n",
       "3     4.0      United Kingdom    20944.0            20357.0   206091.0   \n",
       "4     5.0  Russian Federation    18534.0            18301.0    34266.0   \n",
       "..    ...                 ...        ...                ...        ...   \n",
       "314   NaN             Vietnam        NaN                NaN        NaN   \n",
       "315   NaN  West Bank and Gaza        NaN                NaN        NaN   \n",
       "316   NaN               World        NaN                NaN        NaN   \n",
       "317   NaN         Yemen, Rep.        NaN                NaN        NaN   \n",
       "318   NaN    Congo, Dem. Rep.        NaN                NaN        NaN   \n",
       "\n",
       "     Self-citations  Citations per document  H index  Energy Supply  \\\n",
       "0          411683.0                    4.70    138.0   1.271910e+11   \n",
       "1          265436.0                    8.20    230.0   9.083800e+10   \n",
       "2           61554.0                    7.31    134.0   1.898400e+10   \n",
       "3           37874.0                    9.84    139.0   7.920000e+09   \n",
       "4           12422.0                    1.85     57.0   3.070900e+10   \n",
       "..              ...                     ...      ...            ...   \n",
       "314             NaN                     NaN      NaN            NaN   \n",
       "315             NaN                     NaN      NaN            NaN   \n",
       "316             NaN                     NaN      NaN            NaN   \n",
       "317             NaN                     NaN      NaN            NaN   \n",
       "318             NaN                     NaN      NaN            NaN   \n",
       "\n",
       "     Energy Supply per Capita  ...          2006          2007          2008  \\\n",
       "0                        93.0  ...  3.992331e+12  4.559041e+12  4.997775e+12   \n",
       "1                       286.0  ...  1.479230e+13  1.505540e+13  1.501149e+13   \n",
       "2                       149.0  ...  5.496542e+12  5.617036e+12  5.558527e+12   \n",
       "3                       124.0  ...  2.419631e+12  2.482203e+12  2.470614e+12   \n",
       "4                       214.0  ...  1.385793e+12  1.504071e+12  1.583004e+12   \n",
       "..                        ...  ...           ...           ...           ...   \n",
       "314                       NaN  ...  9.130761e+10  9.781739e+10  1.033556e+11   \n",
       "315                       NaN  ...  8.016675e+09  7.878227e+09  7.201473e+09   \n",
       "316                       NaN  ...  6.023536e+13  6.282865e+13  6.398692e+13   \n",
       "317                       NaN  ...  2.672565e+10  2.761787e+10  2.872656e+10   \n",
       "318                       NaN  ...  1.650894e+10  1.754232e+10  1.863448e+10   \n",
       "\n",
       "             2009          2010          2011          2012          2013  \\\n",
       "0    5.459247e+12  6.039659e+12  6.612490e+12  7.124978e+12  7.672448e+12   \n",
       "1    1.459484e+13  1.496437e+13  1.520402e+13  1.554216e+13  1.577367e+13   \n",
       "2    5.251308e+12  5.498718e+12  5.473738e+12  5.569102e+12  5.644659e+12   \n",
       "3    2.367048e+12  2.403504e+12  2.450911e+12  2.479809e+12  2.533370e+12   \n",
       "4    1.459199e+12  1.524917e+12  1.589943e+12  1.645876e+12  1.666934e+12   \n",
       "..            ...           ...           ...           ...           ...   \n",
       "314  1.089346e+11  1.159317e+11  1.231662e+11  1.296292e+11  1.366576e+11   \n",
       "315  8.709518e+09  8.913100e+09  9.611505e+09  1.100864e+10  1.053747e+10   \n",
       "316  6.291271e+13  6.564782e+13  6.770244e+13  6.937886e+13  7.104232e+13   \n",
       "317  2.991436e+10  3.090675e+10  2.624342e+10  2.689160e+10  2.800914e+10   \n",
       "318  1.916651e+10  2.052329e+10  2.193213e+10  2.350200e+10  2.550050e+10   \n",
       "\n",
       "             2014          2015  \n",
       "0    8.230121e+12  8.797999e+12  \n",
       "1    1.615662e+13  1.654857e+13  \n",
       "2    5.642884e+12  5.669563e+12  \n",
       "3    2.605643e+12  2.666333e+12  \n",
       "4    1.678709e+12  1.616149e+12  \n",
       "..            ...           ...  \n",
       "314  1.448347e+11  1.545086e+11  \n",
       "315  1.042246e+10  1.171414e+10  \n",
       "316  7.291072e+13  7.470901e+13  \n",
       "317           NaN           NaN  \n",
       "318  2.778776e+10  2.970961e+10  \n",
       "\n",
       "[319 rows x 70 columns]"
      ]
     },
     "execution_count": 154,
     "metadata": {},
     "output_type": "execute_result"
    }
   ],
   "source": [
    "Energy = pd.read_excel(r'assets/Energy Indicators.xls', skiprows=17, skipfooter=38).drop(columns=['Unnamed: 0', 'Unnamed: 1'])\n",
    "Energy.columns = ['Country', 'Energy Supply', 'Energy Supply per Capita', '% Renewable']\n",
    "Energy.replace('...', np.NaN, inplace=True)\n",
    "Energy['Energy Supply'] = Energy['Energy Supply'] * (10 ** 6)\n",
    "Energy['Country'] = Energy['Country'].str.replace(r' \\(.*\\)', '', regex=True).replace(r'\\d+$', '', regex= True)\n",
    "Energy['Country'].replace({\"Republic of Korea\": \"South Korea\", \"United States of America\": \"United States\",\n",
    "                \"United Kingdom of Great Britain and Northern Ireland\": \"United Kingdom\",\n",
    "                \"China, Hong Kong Special Administrative Region\": \"Hong Kong\"}, inplace=True)\n",
    "############################\n",
    "\n",
    "GDP = pd.read_csv(r'assets/world_bank.csv', skiprows=4)\n",
    "GDP['Country Name'].replace({\n",
    "\"Korea, Rep.\": \"South Korea\",  \"Iran, Islamic Rep.\": \"Iran\", \"Hong Kong SAR, China\": \"Hong Kong\"}\n",
    ", inplace=True)\n",
    "GDP.rename({'Country Name' : 'Country'}, axis='columns', inplace=True)\n",
    "############################\n",
    "\n",
    "ScimEn = pd.read_excel(r'assets/scimagojr-3.xlsx')\n",
    "\n",
    "dfs = [ScimEn, Energy, GDP]\n",
    "merged_df = reduce(lambda left, right: pd.merge(left, right, on='Country', how='outer'), dfs)\n",
    "merged_df"
   ]
  },
  {
   "cell_type": "code",
   "execution_count": 2,
   "metadata": {
    "deletable": false,
    "nbgrader": {
     "cell_type": "code",
     "checksum": "57e040f07954f979910eddc0f489ffe5",
     "grade": false,
     "grade_id": "cell-bce4d6f2ecdd1297",
     "locked": false,
     "schema_version": 3,
     "solution": true
    }
   },
   "outputs": [],
   "source": [
    "def answer_one():\n",
    "    # YOUR CODE HERE\n",
    "    Energy = pd.read_excel(r'assets/Energy Indicators.xls', skiprows=17, skipfooter=38).drop(columns=['Unnamed: 0', 'Unnamed: 1'])\n",
    "    Energy.columns = ['Country', 'Energy Supply', 'Energy Supply per Capita', '% Renewable']\n",
    "    Energy.replace('...', np.NaN, inplace=True)\n",
    "    Energy['Energy Supply'] = Energy['Energy Supply'] * (10 ** 6)\n",
    "    Energy['Country'] = Energy['Country'].str.replace(r' \\(.*\\)', '', regex=True).replace(r'\\d+$', '', regex= True)\n",
    "    Energy['Country'].replace({\"Republic of Korea\": \"South Korea\", \"United States of America\": \"United States\",\n",
    "                    \"United Kingdom of Great Britain and Northern Ireland\": \"United Kingdom\",\n",
    "                    \"China, Hong Kong Special Administrative Region\": \"Hong Kong\"}, inplace=True)\n",
    "    ############################\n",
    "    \n",
    "    GDP = pd.read_csv(r'assets/world_bank.csv', skiprows=4)\n",
    "    GDP['Country Name'].replace({\n",
    "    \"Korea, Rep.\": \"South Korea\",  \"Iran, Islamic Rep.\": \"Iran\", \"Hong Kong SAR, China\": \"Hong Kong\"}\n",
    "    , inplace=True)\n",
    "    GDP.rename({'Country Name' : 'Country'}, axis='columns', inplace=True)\n",
    "    ############################\n",
    "    \n",
    "    ScimEn = pd.read_excel(r'assets/scimagojr-3.xlsx')\n",
    "    ############################\n",
    "\n",
    "    dfs = [ScimEn, Energy, GDP]\n",
    "    merged_df = reduce(lambda left, right: pd.merge(left, right, on='Country', how='inner'), dfs)\n",
    "    merged_df.set_index('Country', inplace=True)\n",
    "    merged_df = merged_df.loc[merged_df['Rank'] <16, \n",
    "                             ['Rank', 'Documents', 'Citable documents', 'Citations', 'Self-citations', \n",
    "                              'Citations per document', 'H index', 'Energy Supply', 'Energy Supply per Capita',\n",
    "                              '% Renewable', '2006', '2007', '2008', '2009', '2010', '2011', '2012', \n",
    "                              '2013', '2014', '2015']]\n",
    "    return merged_df"
   ]
  },
  {
   "cell_type": "code",
   "execution_count": 146,
   "metadata": {},
   "outputs": [
    {
     "data": {
      "text/plain": [
       "(161, 70)"
      ]
     },
     "execution_count": 146,
     "metadata": {},
     "output_type": "execute_result"
    }
   ],
   "source": [
    "Energy = pd.read_excel(r'assets/Energy Indicators.xls', skiprows=17, skipfooter=38).drop(columns=['Unnamed: 0', 'Unnamed: 1'])\n",
    "Energy.columns = ['Country', 'Energy Supply', 'Energy Supply per Capita', '% Renewable']\n",
    "Energy.replace('...', np.NaN, inplace=True)\n",
    "Energy['Energy Supply'] = Energy['Energy Supply'] * (10 ** 6)\n",
    "Energy['Country'] = Energy['Country'].str.replace(r' \\(.*\\)', '', regex=True).replace(r'\\d+$', '', regex= True)\n",
    "Energy['Country'].replace({\"Republic of Korea\": \"South Korea\", \"United States of America\": \"United States\",\n",
    "                \"United Kingdom of Great Britain and Northern Ireland\": \"United Kingdom\",\n",
    "                \"China, Hong Kong Special Administrative Region\": \"Hong Kong\"}, inplace=True)\n",
    "############################\n",
    "\n",
    "GDP = pd.read_csv(r'assets/world_bank.csv', skiprows=4)\n",
    "GDP['Country Name'].replace({\n",
    "\"Korea, Rep.\": \"South Korea\",  \"Iran, Islamic Rep.\": \"Iran\", \"Hong Kong SAR, China\": \"Hong Kong\"}\n",
    ", inplace=True)\n",
    "GDP.rename({'Country Name' : 'Country'}, axis='columns', inplace=True)\n",
    "############################\n",
    "\n",
    "ScimEn = pd.read_excel(r'assets/scimagojr-3.xlsx')\n",
    "############################\n",
    "\n",
    "dfs = [ScimEn, Energy, GDP]\n",
    "merged_df = reduce(lambda left, right: pd.merge(left, right, on='Country', how='inner'), dfs)\n",
    "merged_df.shape"
   ]
  },
  {
   "cell_type": "code",
   "execution_count": 3,
   "metadata": {
    "deletable": false,
    "nbgrader": {
     "cell_type": "code",
     "checksum": "7bcc18b325d2935427ac2566cddd3661",
     "grade": true,
     "grade_id": "cell-780b5a4da845dbc3",
     "locked": true,
     "points": 5,
     "schema_version": 3,
     "solution": false
    },
    "tags": []
   },
   "outputs": [],
   "source": [
    "assert type(answer_one()) == pd.DataFrame, \"Q1: You should return a DataFrameunique\"\n",
    "assert answer_one().shape == (15,20), \"Q1: Your DataFrame should have 20 columns and 15 entries!\""
   ]
  },
  {
   "cell_type": "code",
   "execution_count": 4,
   "metadata": {
    "deletable": false,
    "editable": false,
    "nbgrader": {
     "cell_type": "code",
     "checksum": "e241830bcf3f63326b4c9cdf50be8f86",
     "grade": true,
     "grade_id": "cell-74b5f0b971379f64",
     "locked": true,
     "points": 10,
     "schema_version": 3,
     "solution": false
    }
   },
   "outputs": [],
   "source": [
    "# Cell for autograder.\n"
   ]
  },
  {
   "cell_type": "markdown",
   "metadata": {
    "deletable": false,
    "editable": false,
    "nbgrader": {
     "cell_type": "markdown",
     "checksum": "596280cd22ed98c5540580c62954ec2f",
     "grade": false,
     "grade_id": "cell-babe0ff2a1fc6b17",
     "locked": true,
     "schema_version": 3,
     "solution": false
    }
   },
   "source": [
    "### Question 2\n",
    "The previous question joined three datasets then reduced this to just the top 15 entries. When you joined the datasets, but before you reduced this to the top 15 items, how many entries did you lose?\n",
    "\n",
    "*This function should return a single number.*"
   ]
  },
  {
   "cell_type": "code",
   "execution_count": null,
   "metadata": {},
   "outputs": [],
   "source": []
  },
  {
   "cell_type": "code",
   "execution_count": 5,
   "metadata": {
    "deletable": false,
    "editable": false,
    "nbgrader": {
     "cell_type": "code",
     "checksum": "c9a34da81c80126fd23ae2eac33f98f8",
     "grade": false,
     "grade_id": "cell-96f84e7b693bef63",
     "locked": true,
     "schema_version": 3,
     "solution": false
    }
   },
   "outputs": [
    {
     "data": {
      "text/html": [
       "<svg width=\"800\" height=\"300\">\n",
       "  <circle cx=\"150\" cy=\"180\" r=\"80\" fill-opacity=\"0.2\" stroke=\"black\" stroke-width=\"2\" fill=\"blue\" />\n",
       "  <circle cx=\"200\" cy=\"100\" r=\"80\" fill-opacity=\"0.2\" stroke=\"black\" stroke-width=\"2\" fill=\"red\" />\n",
       "  <circle cx=\"100\" cy=\"100\" r=\"80\" fill-opacity=\"0.2\" stroke=\"black\" stroke-width=\"2\" fill=\"green\" />\n",
       "  <line x1=\"150\" y1=\"125\" x2=\"300\" y2=\"150\" stroke=\"black\" stroke-width=\"2\" fill=\"black\" stroke-dasharray=\"5,3\"/>\n",
       "  <text x=\"300\" y=\"165\" font-family=\"Verdana\" font-size=\"35\">Everything but this!</text>\n",
       "</svg>\n"
      ],
      "text/plain": [
       "<IPython.core.display.HTML object>"
      ]
     },
     "metadata": {},
     "output_type": "display_data"
    }
   ],
   "source": [
    "%%HTML\n",
    "<svg width=\"800\" height=\"300\">\n",
    "  <circle cx=\"150\" cy=\"180\" r=\"80\" fill-opacity=\"0.2\" stroke=\"black\" stroke-width=\"2\" fill=\"blue\" />\n",
    "  <circle cx=\"200\" cy=\"100\" r=\"80\" fill-opacity=\"0.2\" stroke=\"black\" stroke-width=\"2\" fill=\"red\" />\n",
    "  <circle cx=\"100\" cy=\"100\" r=\"80\" fill-opacity=\"0.2\" stroke=\"black\" stroke-width=\"2\" fill=\"green\" />\n",
    "  <line x1=\"150\" y1=\"125\" x2=\"300\" y2=\"150\" stroke=\"black\" stroke-width=\"2\" fill=\"black\" stroke-dasharray=\"5,3\"/>\n",
    "  <text x=\"300\" y=\"165\" font-family=\"Verdana\" font-size=\"35\">Everything but this!</text>\n",
    "</svg>"
   ]
  },
  {
   "cell_type": "code",
   "execution_count": 6,
   "metadata": {
    "deletable": false,
    "nbgrader": {
     "cell_type": "code",
     "checksum": "aeeb01fb73054269dd7b818d0945e2f7",
     "grade": false,
     "grade_id": "cell-b0c3202c000aada4",
     "locked": false,
     "schema_version": 3,
     "solution": true
    }
   },
   "outputs": [],
   "source": [
    "def answer_two():\n",
    "    \n",
    "    return 161 - 15"
   ]
  },
  {
   "cell_type": "code",
   "execution_count": 7,
   "metadata": {
    "deletable": false,
    "editable": false,
    "nbgrader": {
     "cell_type": "code",
     "checksum": "19759b4a6c03f34b647f66d343952619",
     "grade": true,
     "grade_id": "cell-be24cfcaa87ab071",
     "locked": true,
     "points": 6.66,
     "schema_version": 3,
     "solution": false
    }
   },
   "outputs": [],
   "source": [
    "assert type(answer_two()) == int, \"Q2: You should return an int number!\"\n"
   ]
  },
  {
   "cell_type": "markdown",
   "metadata": {
    "deletable": false,
    "editable": false,
    "nbgrader": {
     "cell_type": "markdown",
     "checksum": "5af1b4f99cd383263130f4c00442a133",
     "grade": false,
     "grade_id": "cell-2e54816014e48c18",
     "locked": true,
     "schema_version": 3,
     "solution": false
    }
   },
   "source": [
    "### Question 3\n",
    "What are the top 15 countries for average GDP over the last 10 years?\n",
    "\n",
    "*This function should return a Series named `avgGDP` with 15 countries and their average GDP sorted in descending order.*"
   ]
  },
  {
   "cell_type": "code",
   "execution_count": 172,
   "metadata": {
    "deletable": false,
    "nbgrader": {
     "cell_type": "code",
     "checksum": "a3490fd71a46cecfa3da698e006fe729",
     "grade": false,
     "grade_id": "cell-8c3d74335c0d489a",
     "locked": false,
     "schema_version": 3,
     "solution": true
    }
   },
   "outputs": [],
   "source": [
    "def answer_three():\n",
    "    merged_df = answer_one()\n",
    "    merged_df = merged_df.loc[:, [str(x) for x in range(2006, 2016)]]\n",
    "    ans = merged_df.mean(axis= 'columns').sort_values(ascending=False)\n",
    "    ans.name = 'avgGPD'\n",
    "    return ans\n",
    "    "
   ]
  },
  {
   "cell_type": "code",
   "execution_count": 173,
   "metadata": {},
   "outputs": [
    {
     "data": {
      "text/plain": [
       "Country\n",
       "United States         1.536434e+13\n",
       "China                 6.348609e+12\n",
       "Japan                 5.542208e+12\n",
       "Germany               3.493025e+12\n",
       "France                2.681725e+12\n",
       "United Kingdom        2.487907e+12\n",
       "Brazil                2.189794e+12\n",
       "Italy                 2.120175e+12\n",
       "India                 1.769297e+12\n",
       "Canada                1.660647e+12\n",
       "Russian Federation    1.565459e+12\n",
       "Spain                 1.418078e+12\n",
       "Australia             1.164043e+12\n",
       "South Korea           1.106715e+12\n",
       "Iran                  4.441558e+11\n",
       "Name: avgGPD, dtype: float64"
      ]
     },
     "execution_count": 173,
     "metadata": {},
     "output_type": "execute_result"
    }
   ],
   "source": [
    "answer_three()"
   ]
  },
  {
   "cell_type": "code",
   "execution_count": 9,
   "metadata": {
    "deletable": false,
    "editable": false,
    "nbgrader": {
     "cell_type": "code",
     "checksum": "2f9c90ee07138f94c027c5d2f907ab13",
     "grade": true,
     "grade_id": "cell-aaaa11ef7d26f4cf",
     "locked": true,
     "points": 6.66,
     "schema_version": 3,
     "solution": false
    }
   },
   "outputs": [],
   "source": [
    "assert type(answer_three()) == pd.Series, \"Q3: You should return a Series!\"\n"
   ]
  },
  {
   "cell_type": "markdown",
   "metadata": {},
   "source": [
    "### Question 4\n",
    "By how much had the GDP changed over the 10 year span for the country with the 6th largest average GDP?\n",
    "\n",
    "*This function should return a single number.*"
   ]
  },
  {
   "cell_type": "code",
   "execution_count": 10,
   "metadata": {
    "deletable": false,
    "nbgrader": {
     "cell_type": "code",
     "checksum": "768a19bcc8adc6991fe5c757e95ba784",
     "grade": false,
     "grade_id": "cell-7f77d099e3e0bbee",
     "locked": false,
     "schema_version": 3,
     "solution": true
    }
   },
   "outputs": [],
   "source": [
    "def answer_four():\n",
    "    avg_gpd = answer_three().reset_index()\n",
    "    country_name = avg_gpd['Country'].loc[5]\n",
    "    df = answer_one()\n",
    "    diff = df.loc[country_name, \"2015\"] - df.loc[country_name, \"2006\"]  \n",
    "    return diff"
   ]
  },
  {
   "cell_type": "code",
   "execution_count": 11,
   "metadata": {
    "deletable": false,
    "editable": false,
    "nbgrader": {
     "cell_type": "code",
     "checksum": "a7770c49cdfac4fa6368dfe8b39e6474",
     "grade": true,
     "grade_id": "cell-564dd8e5e24b0f83",
     "locked": true,
     "points": 6.66,
     "schema_version": 3,
     "solution": false
    }
   },
   "outputs": [],
   "source": [
    "# Cell for autograder.\n"
   ]
  },
  {
   "cell_type": "markdown",
   "metadata": {
    "deletable": false,
    "editable": false,
    "nbgrader": {
     "cell_type": "markdown",
     "checksum": "ed6dbc94ff1b6268873413fee12741cd",
     "grade": false,
     "grade_id": "cell-617669111e38ca15",
     "locked": true,
     "schema_version": 3,
     "solution": false
    }
   },
   "source": [
    "### Question 5\n",
    "What is the mean energy supply per capita?\n",
    "\n",
    "*This function should return a single number.*"
   ]
  },
  {
   "cell_type": "code",
   "execution_count": 12,
   "metadata": {
    "deletable": false,
    "nbgrader": {
     "cell_type": "code",
     "checksum": "cfd61a1735889e7ef20692ca0d28ddcb",
     "grade": false,
     "grade_id": "cell-58e79d558e982eef",
     "locked": false,
     "schema_version": 3,
     "solution": true
    }
   },
   "outputs": [],
   "source": [
    "def answer_five():\n",
    "    df = answer_one()['Energy Supply per Capita']\n",
    "    return df.mean()"
   ]
  },
  {
   "cell_type": "code",
   "execution_count": 13,
   "metadata": {
    "deletable": false,
    "editable": false,
    "nbgrader": {
     "cell_type": "code",
     "checksum": "9d61bf22656baeecc77f63d54448590e",
     "grade": true,
     "grade_id": "cell-30cc66180851638c",
     "locked": true,
     "points": 6.66,
     "schema_version": 3,
     "solution": false
    }
   },
   "outputs": [],
   "source": [
    "# Cell for autograder.\n"
   ]
  },
  {
   "cell_type": "code",
   "execution_count": 14,
   "metadata": {},
   "outputs": [
    {
     "data": {
      "text/plain": [
       "numpy.float64"
      ]
     },
     "execution_count": 14,
     "metadata": {},
     "output_type": "execute_result"
    }
   ],
   "source": [
    "type(answer_five())"
   ]
  },
  {
   "cell_type": "markdown",
   "metadata": {
    "deletable": false,
    "editable": false,
    "nbgrader": {
     "cell_type": "markdown",
     "checksum": "2c7a163ae96f56317756456b0d9d695b",
     "grade": false,
     "grade_id": "cell-5c11ddd12fd71b3f",
     "locked": true,
     "schema_version": 3,
     "solution": false
    }
   },
   "source": [
    "### Question 6\n",
    "What country has the maximum % Renewable and what is the percentage?\n",
    "\n",
    "*This function should return a tuple with the name of the country and the percentage.*"
   ]
  },
  {
   "cell_type": "code",
   "execution_count": 15,
   "metadata": {
    "deletable": false,
    "nbgrader": {
     "cell_type": "code",
     "checksum": "f8657f18c77eb0f752bca3cc48561da3",
     "grade": false,
     "grade_id": "cell-b6824b78e74619f9",
     "locked": false,
     "schema_version": 3,
     "solution": true
    }
   },
   "outputs": [],
   "source": [
    "def answer_six():\n",
    "    df = answer_one()['% Renewable'].reset_index()\n",
    "    df.sort_values('% Renewable', ascending=False, inplace=True)\n",
    "    x = df.iloc[0]\n",
    "    return x.loc['Country'], x.loc['% Renewable']"
   ]
  },
  {
   "cell_type": "code",
   "execution_count": 16,
   "metadata": {
    "deletable": false,
    "editable": false,
    "nbgrader": {
     "cell_type": "code",
     "checksum": "f8b28b0a824a3b76a6244c1273648ccd",
     "grade": true,
     "grade_id": "cell-2bd201c5c7bdd80f",
     "locked": true,
     "points": 6.66,
     "schema_version": 3,
     "solution": false
    }
   },
   "outputs": [],
   "source": [
    "assert type(answer_six()) == tuple, \"Q6: You should return a tuple!\"\n",
    "\n",
    "assert type(answer_six()[0]) == str, \"Q6: The first element in your result should be the name of the country!\"\n"
   ]
  },
  {
   "cell_type": "markdown",
   "metadata": {
    "deletable": false,
    "editable": false,
    "nbgrader": {
     "cell_type": "markdown",
     "checksum": "a7b561a486a28ee4ba80a40715617c6d",
     "grade": false,
     "grade_id": "cell-ddf52a85ad3d5a11",
     "locked": true,
     "schema_version": 3,
     "solution": false
    }
   },
   "source": [
    "### Question 7\n",
    "Create a new column that is the ratio of Self-Citations to Total Citations. \n",
    "What is the maximum value for this new column, and what country has the highest ratio?\n",
    "\n",
    "*This function should return a tuple with the name of the country and the ratio.*"
   ]
  },
  {
   "cell_type": "code",
   "execution_count": 17,
   "metadata": {
    "deletable": false,
    "nbgrader": {
     "cell_type": "code",
     "checksum": "e4b1cc5e3deefd24be992fbee18d0e74",
     "grade": false,
     "grade_id": "cell-a4f39737f38aa53c",
     "locked": false,
     "schema_version": 3,
     "solution": true
    }
   },
   "outputs": [],
   "source": [
    "def answer_seven():\n",
    "    # YOUR CODE HERE\n",
    "    df = answer_one()\n",
    "    df['ratio'] = df['Self-citations'] / df['Citations']\n",
    "    df = df['ratio'].sort_values(ascending=False).reset_index()\n",
    "    return df.iloc[0, 0], df.iloc[0, 1]"
   ]
  },
  {
   "cell_type": "code",
   "execution_count": 18,
   "metadata": {
    "deletable": false,
    "editable": false,
    "nbgrader": {
     "cell_type": "code",
     "checksum": "ca448b3a16b65a3a08533cac736cc4d9",
     "grade": true,
     "grade_id": "cell-b7a163e9231b88c9",
     "locked": true,
     "points": 6.66,
     "schema_version": 3,
     "solution": false
    }
   },
   "outputs": [],
   "source": [
    "assert type(answer_seven()) == tuple, \"Q7: You should return a tuple!\"\n",
    "\n",
    "assert type(answer_seven()[0]) == str, \"Q7: The first element in your result should be the name of the country!\"\n"
   ]
  },
  {
   "cell_type": "markdown",
   "metadata": {
    "deletable": false,
    "editable": false,
    "nbgrader": {
     "cell_type": "markdown",
     "checksum": "7be7b86ee7467539dd88746818c78c0e",
     "grade": false,
     "grade_id": "cell-5c89296ab6f94218",
     "locked": true,
     "schema_version": 3,
     "solution": false
    }
   },
   "source": [
    "### Question 8\n",
    "\n",
    "Create a column that estimates the population using Energy Supply and Energy Supply per capita. \n",
    "What is the third most populous country according to this estimate?\n",
    "\n",
    "*This function should return the name of the country*"
   ]
  },
  {
   "cell_type": "code",
   "execution_count": 19,
   "metadata": {
    "deletable": false,
    "nbgrader": {
     "cell_type": "code",
     "checksum": "9d733b2abf089b1931e2e792ff51d488",
     "grade": false,
     "grade_id": "cell-9ca58137846b84d6",
     "locked": false,
     "schema_version": 3,
     "solution": true
    }
   },
   "outputs": [],
   "source": [
    "def answer_eight():\n",
    "    df = answer_one()\n",
    "    frame = df[['Energy Supply', 'Energy Supply per Capita']]\n",
    "    frame['pop'] = frame['Energy Supply'] / frame['Energy Supply per Capita']\n",
    "    frame.sort_values('pop', ascending=False, inplace=True)\n",
    "    return frame.iloc[2].name"
   ]
  },
  {
   "cell_type": "code",
   "execution_count": 20,
   "metadata": {
    "deletable": false,
    "editable": false,
    "nbgrader": {
     "cell_type": "code",
     "checksum": "ba2ad50cf8198767b0bd2f75b8d97e87",
     "grade": true,
     "grade_id": "cell-3f3620c88df08b20",
     "locked": true,
     "points": 0,
     "schema_version": 3,
     "solution": false
    }
   },
   "outputs": [],
   "source": [
    "assert type(answer_eight()) == str, \"Q8: You should return the name of the country!\"\n"
   ]
  },
  {
   "cell_type": "markdown",
   "metadata": {
    "deletable": false,
    "editable": false,
    "nbgrader": {
     "cell_type": "markdown",
     "checksum": "164cba98164a1045db7de10dd37115c8",
     "grade": false,
     "grade_id": "cell-2065207e66e5ec01",
     "locked": true,
     "schema_version": 3,
     "solution": false
    }
   },
   "source": [
    "### Question 9\n",
    "Create a column that estimates the number of citable documents per person. \n",
    "What is the correlation between the number of citable documents per capita and the energy supply per capita? Use the `.corr()` method, (Pearson's correlation).\n",
    "\n",
    "*This function should return a single number.*\n",
    "\n",
    "*(Optional: Use the built-in function `plot9()` to visualize the relationship between Energy Supply per Capita vs. Citable docs per Capita)*"
   ]
  },
  {
   "cell_type": "code",
   "execution_count": 21,
   "metadata": {
    "deletable": false,
    "nbgrader": {
     "cell_type": "code",
     "checksum": "94e06c4c3a9618b94dbb0e86913b546c",
     "grade": false,
     "grade_id": "cell-033679ea456bfb9d",
     "locked": false,
     "schema_version": 3,
     "solution": true
    }
   },
   "outputs": [],
   "source": [
    "def answer_nine():\n",
    "    df = answer_one()\n",
    "    df['pop'] = df['Energy Supply'] / df['Energy Supply per Capita']\n",
    "    col_list = ['Citable documents', 'pop', 'Energy Supply per Capita']\n",
    "    df = df[col_list]\n",
    "    df['Citable Documents per Capita'] = df['Citable documents'] / df['pop']\n",
    "    corr = df['Citable Documents per Capita'].corr(df['Energy Supply per Capita'])\n",
    "    return corr"
   ]
  },
  {
   "cell_type": "code",
   "execution_count": 22,
   "metadata": {
    "deletable": false,
    "editable": false,
    "nbgrader": {
     "cell_type": "code",
     "checksum": "01a146bbcca0fa9c9c13e71ab52e710f",
     "grade": false,
     "grade_id": "cell-644824f6c708bf80",
     "locked": true,
     "schema_version": 3,
     "solution": false
    }
   },
   "outputs": [],
   "source": [
    "def plot9():\n",
    "    import matplotlib as plt\n",
    "    %matplotlib inline\n",
    "    \n",
    "    Top15 = answer_one()\n",
    "    Top15['PopEst'] = Top15['Energy Supply'] / Top15['Energy Supply per Capita']\n",
    "    Top15['Citable docs per Capita'] = Top15['Citable documents'] / Top15['PopEst']\n",
    "    Top15.plot(x='Citable docs per Capita', y='Energy Supply per Capita', kind='scatter', xlim=[0, 0.0006])"
   ]
  },
  {
   "cell_type": "code",
   "execution_count": 23,
   "metadata": {
    "deletable": false,
    "editable": false,
    "nbgrader": {
     "cell_type": "code",
     "checksum": "8dced1dde88b6877f89bdec482870476",
     "grade": true,
     "grade_id": "cell-3cb5c699065a4a20",
     "locked": true,
     "points": 6.66,
     "schema_version": 3,
     "solution": false
    }
   },
   "outputs": [],
   "source": [
    "assert answer_nine() >= -1. and answer_nine() <= 1., \"Q9: A valid correlation should between -1 to 1!\"\n"
   ]
  },
  {
   "cell_type": "markdown",
   "metadata": {
    "deletable": false,
    "editable": false,
    "nbgrader": {
     "cell_type": "markdown",
     "checksum": "8af5ffad89be1e5c6292438724d6f8d5",
     "grade": false,
     "grade_id": "cell-ad09765e29b91157",
     "locked": true,
     "schema_version": 3,
     "solution": false
    }
   },
   "source": [
    "### Question 10\n",
    "Create a new column with a 1 if the country's % Renewable value is at or above the median for all countries in the top 15, and a 0 if the country's % Renewable value is below the median.\n",
    "\n",
    "*This function should return a series named `HighRenew` whose index is the country name sorted in ascending order of rank.*"
   ]
  },
  {
   "cell_type": "code",
   "execution_count": 24,
   "metadata": {
    "deletable": false,
    "nbgrader": {
     "cell_type": "code",
     "checksum": "340c06bd50a9a027a2190674cfb981b9",
     "grade": false,
     "grade_id": "cell-0fdf60e64bf1a4f9",
     "locked": false,
     "schema_version": 3,
     "solution": true
    }
   },
   "outputs": [],
   "source": [
    "def answer_ten():\n",
    "    df = answer_one()['% Renewable'].to_frame()\n",
    "    med = np.median(df)\n",
    "    df['HighRenew'] = np.where(df['% Renewable'] >= med, 1, 0)\n",
    "    return df['HighRenew']"
   ]
  },
  {
   "cell_type": "code",
   "execution_count": 25,
   "metadata": {
    "deletable": false,
    "editable": false,
    "nbgrader": {
     "cell_type": "code",
     "checksum": "f624e6996eca5796eaf27fb4d0593175",
     "grade": true,
     "grade_id": "cell-b29a631fd9a7730f",
     "locked": true,
     "points": 6.66,
     "schema_version": 3,
     "solution": false
    }
   },
   "outputs": [],
   "source": [
    "assert type(answer_ten()) == pd.Series, \"Q10: You should return a Series!\"\n"
   ]
  },
  {
   "cell_type": "markdown",
   "metadata": {
    "deletable": false,
    "editable": false,
    "nbgrader": {
     "cell_type": "markdown",
     "checksum": "52f682e7066791c34cd3b2402855cbf5",
     "grade": false,
     "grade_id": "cell-677c51ba711c3af7",
     "locked": true,
     "schema_version": 3,
     "solution": false
    }
   },
   "source": [
    "### Question 11\n",
    "Use the following dictionary to group the Countries by Continent, then create a DataFrame that displays the sample size (the number of countries in each continent bin), and the sum, mean, and std deviation for the estimated population of each country.\n",
    "\n",
    "```python\n",
    "ContinentDict  = {'China':'Asia', \n",
    "                  'United States':'North America', \n",
    "                  'Japan':'Asia', \n",
    "                  'United Kingdom':'Europe', \n",
    "                  'Russian Federation':'Europe', \n",
    "                  'Canada':'North America', \n",
    "                  'Germany':'Europe', \n",
    "                  'India':'Asia',\n",
    "                  'France':'Europe', \n",
    "                  'South Korea':'Asia', \n",
    "                  'Italy':'Europe', \n",
    "                  'Spain':'Europe', \n",
    "                  'Iran':'Asia',\n",
    "                  'Australia':'Australia', \n",
    "                  'Brazil':'South America'}\n",
    "```\n",
    "\n",
    "*This function should return a DataFrame with index named Continent `['Asia', 'Australia', 'Europe', 'North America', 'South America']` and columns `['size', 'sum', 'mean', 'std']`*"
   ]
  },
  {
   "cell_type": "code",
   "execution_count": 184,
   "metadata": {
    "deletable": false,
    "nbgrader": {
     "cell_type": "code",
     "checksum": "b55846bc20cd01b0acbcb776504a766d",
     "grade": false,
     "grade_id": "cell-a5e0c0df27304f98",
     "locked": false,
     "schema_version": 3,
     "solution": true
    }
   },
   "outputs": [],
   "source": [
    "def answer_eleven():\n",
    "    df = answer_one()\n",
    "    ContinentDict  = {'China':'Asia', \n",
    "                      'United States':'North America', \n",
    "                      'Japan':'Asia', \n",
    "                      'United Kingdom':'Europe', \n",
    "                      'Russian Federation':'Europe', \n",
    "                      'Canada':'North America', \n",
    "                      'Germany':'Europe', \n",
    "                      'India':'Asia',\n",
    "                      'France':'Europe', \n",
    "                      'South Korea':'Asia', \n",
    "                      'Italy':'Europe', \n",
    "                      'Spain':'Europe', \n",
    "                      'Iran':'Asia',\n",
    "                      'Australia':'Australia', \n",
    "                      'Brazil':'South America'}\n",
    "    df['Continent'] = ContinentDict\n",
    "    df['pop'] = df['Energy Supply'] / df['Energy Supply per Capita']\n",
    "    agg_dict = {'Continent' : 'size', 'pop' : [np.sum, np.mean, np.std] }\n",
    "    x = df.groupby('Continent').agg(agg_dict).droplevel(level=0, axis=1)\n",
    "    return x"
   ]
  },
  {
   "cell_type": "code",
   "execution_count": 185,
   "metadata": {},
   "outputs": [
    {
     "data": {
      "text/html": [
       "<div>\n",
       "<style scoped>\n",
       "    .dataframe tbody tr th:only-of-type {\n",
       "        vertical-align: middle;\n",
       "    }\n",
       "\n",
       "    .dataframe tbody tr th {\n",
       "        vertical-align: top;\n",
       "    }\n",
       "\n",
       "    .dataframe thead th {\n",
       "        text-align: right;\n",
       "    }\n",
       "</style>\n",
       "<table border=\"1\" class=\"dataframe\">\n",
       "  <thead>\n",
       "    <tr style=\"text-align: right;\">\n",
       "      <th></th>\n",
       "      <th>size</th>\n",
       "      <th>sum</th>\n",
       "      <th>mean</th>\n",
       "      <th>std</th>\n",
       "    </tr>\n",
       "    <tr>\n",
       "      <th>Continent</th>\n",
       "      <th></th>\n",
       "      <th></th>\n",
       "      <th></th>\n",
       "      <th></th>\n",
       "    </tr>\n",
       "  </thead>\n",
       "  <tbody>\n",
       "    <tr>\n",
       "      <th>Asia</th>\n",
       "      <td>5</td>\n",
       "      <td>2.898666e+09</td>\n",
       "      <td>5.797333e+08</td>\n",
       "      <td>6.790979e+08</td>\n",
       "    </tr>\n",
       "    <tr>\n",
       "      <th>Australia</th>\n",
       "      <td>1</td>\n",
       "      <td>2.331602e+07</td>\n",
       "      <td>2.331602e+07</td>\n",
       "      <td>NaN</td>\n",
       "    </tr>\n",
       "    <tr>\n",
       "      <th>Europe</th>\n",
       "      <td>6</td>\n",
       "      <td>4.579297e+08</td>\n",
       "      <td>7.632161e+07</td>\n",
       "      <td>3.464767e+07</td>\n",
       "    </tr>\n",
       "    <tr>\n",
       "      <th>North America</th>\n",
       "      <td>2</td>\n",
       "      <td>3.528552e+08</td>\n",
       "      <td>1.764276e+08</td>\n",
       "      <td>1.996696e+08</td>\n",
       "    </tr>\n",
       "    <tr>\n",
       "      <th>South America</th>\n",
       "      <td>1</td>\n",
       "      <td>2.059153e+08</td>\n",
       "      <td>2.059153e+08</td>\n",
       "      <td>NaN</td>\n",
       "    </tr>\n",
       "  </tbody>\n",
       "</table>\n",
       "</div>"
      ],
      "text/plain": [
       "               size           sum          mean           std\n",
       "Continent                                                    \n",
       "Asia              5  2.898666e+09  5.797333e+08  6.790979e+08\n",
       "Australia         1  2.331602e+07  2.331602e+07           NaN\n",
       "Europe            6  4.579297e+08  7.632161e+07  3.464767e+07\n",
       "North America     2  3.528552e+08  1.764276e+08  1.996696e+08\n",
       "South America     1  2.059153e+08  2.059153e+08           NaN"
      ]
     },
     "execution_count": 185,
     "metadata": {},
     "output_type": "execute_result"
    }
   ],
   "source": [
    "answer_eleven()"
   ]
  },
  {
   "cell_type": "code",
   "execution_count": 186,
   "metadata": {
    "deletable": false,
    "editable": false,
    "nbgrader": {
     "cell_type": "code",
     "checksum": "233318097d9c94fdc87395c967da14c4",
     "grade": true,
     "grade_id": "cell-18d1a07971b25743",
     "locked": true,
     "points": 6.66,
     "schema_version": 3,
     "solution": false
    }
   },
   "outputs": [],
   "source": [
    "assert type(answer_eleven()) == pd.DataFrame, \"Q11: You should return a DataFrame!\"\n",
    "\n",
    "assert answer_eleven().shape[0] == 5, \"Q11: Wrong row numbers!\"\n",
    "\n",
    "assert answer_eleven().shape[1] == 4, \"Q11: Wrong column numbers!\"\n"
   ]
  },
  {
   "cell_type": "markdown",
   "metadata": {
    "deletable": false,
    "editable": false,
    "nbgrader": {
     "cell_type": "markdown",
     "checksum": "78d9dbb8ff6e0a1ac1e0d16e026a7d98",
     "grade": false,
     "grade_id": "cell-fa26f5c1eac39c6c",
     "locked": true,
     "schema_version": 3,
     "solution": false
    }
   },
   "source": [
    "### Question 12\n",
    "Cut % Renewable into 5 bins. Group Top15 by the Continent, as well as these new % Renewable bins. How many countries are in each of these groups?\n",
    "\n",
    "*This function should return a Series with a MultiIndex of `Continent`, then the bins for `% Renewable`. Do not include groups with no countries.*"
   ]
  },
  {
   "cell_type": "code",
   "execution_count": 120,
   "metadata": {
    "deletable": false,
    "nbgrader": {
     "cell_type": "code",
     "checksum": "27eb27ec7a3347530174f7047288a881",
     "grade": false,
     "grade_id": "cell-2ecd9a4076abd8f0",
     "locked": false,
     "schema_version": 3,
     "solution": true
    }
   },
   "outputs": [],
   "source": [
    "def answer_twelve():\n",
    "    df = answer_one()\n",
    "    bins = pd.cut(df['% Renewable'], bins= 5)\n",
    "    ContinentDict  = {'China':'Asia', \n",
    "                          'United States':'North America', \n",
    "                          'Japan':'Asia', \n",
    "                          'United Kingdom':'Europe', \n",
    "                          'Russian Federation':'Europe', \n",
    "                          'Canada':'North America', \n",
    "                          'Germany':'Europe', \n",
    "                          'India':'Asia',\n",
    "                          'France':'Europe', \n",
    "                          'South Korea':'Asia', \n",
    "                          'Italy':'Europe', \n",
    "                          'Spain':'Europe', \n",
    "                          'Iran':'Asia',\n",
    "                          'Australia':'Australia', \n",
    "                          'Brazil':'South America'}\n",
    "    df['Continent'] = ContinentDict\n",
    "    s = df.groupby(['Continent', bins]).size()\n",
    "    return s"
   ]
  },
  {
   "cell_type": "code",
   "execution_count": 121,
   "metadata": {
    "deletable": false,
    "editable": false,
    "nbgrader": {
     "cell_type": "code",
     "checksum": "48903ccc73403827b7ddbb155783ea14",
     "grade": true,
     "grade_id": "cell-6c665602d6babab9",
     "locked": true,
     "points": 6.66,
     "schema_version": 3,
     "solution": false
    }
   },
   "outputs": [],
   "source": [
    "assert type(answer_twelve()) == pd.Series, \"Q12: You should return a Series!\"\n",
    "\n",
    "assert len(answer_twelve()) == 25, \"Q12: Wrong result numbers!\"\n"
   ]
  },
  {
   "cell_type": "code",
   "execution_count": 122,
   "metadata": {},
   "outputs": [
    {
     "data": {
      "text/plain": [
       "Continent      % Renewable     \n",
       "Asia           (2.212, 15.753]     4\n",
       "               (15.753, 29.227]    1\n",
       "               (29.227, 42.701]    0\n",
       "               (42.701, 56.174]    0\n",
       "               (56.174, 69.648]    0\n",
       "Australia      (2.212, 15.753]     1\n",
       "               (15.753, 29.227]    0\n",
       "               (29.227, 42.701]    0\n",
       "               (42.701, 56.174]    0\n",
       "               (56.174, 69.648]    0\n",
       "Europe         (2.212, 15.753]     1\n",
       "               (15.753, 29.227]    3\n",
       "               (29.227, 42.701]    2\n",
       "               (42.701, 56.174]    0\n",
       "               (56.174, 69.648]    0\n",
       "North America  (2.212, 15.753]     1\n",
       "               (15.753, 29.227]    0\n",
       "               (29.227, 42.701]    0\n",
       "               (42.701, 56.174]    0\n",
       "               (56.174, 69.648]    1\n",
       "South America  (2.212, 15.753]     0\n",
       "               (15.753, 29.227]    0\n",
       "               (29.227, 42.701]    0\n",
       "               (42.701, 56.174]    0\n",
       "               (56.174, 69.648]    1\n",
       "dtype: int64"
      ]
     },
     "execution_count": 122,
     "metadata": {},
     "output_type": "execute_result"
    }
   ],
   "source": [
    "answer_twelve()"
   ]
  },
  {
   "cell_type": "markdown",
   "metadata": {
    "deletable": false,
    "editable": false,
    "nbgrader": {
     "cell_type": "markdown",
     "checksum": "bdfd9b1bb897304b6337fdc47a05967c",
     "grade": false,
     "grade_id": "cell-4209a10d8f208739",
     "locked": true,
     "schema_version": 3,
     "solution": false
    }
   },
   "source": [
    "### Question 13\n",
    "Convert the Population Estimate series to a string with thousands separator (using commas). Use all significant digits (do not round the results).\n",
    "\n",
    "e.g. 12345678.90 -> 12,345,678.90\n",
    "\n",
    "*This function should return a series `PopEst` whose index is the country name and whose values are the population estimate string*"
   ]
  },
  {
   "cell_type": "code",
   "execution_count": 181,
   "metadata": {
    "deletable": false,
    "nbgrader": {
     "cell_type": "code",
     "checksum": "1efd09964334b7d6100d81d4b3ead3e9",
     "grade": false,
     "grade_id": "cell-58eb0ee0921d93fb",
     "locked": false,
     "schema_version": 3,
     "solution": true
    }
   },
   "outputs": [],
   "source": [
    "def answer_thirteen():\n",
    "    df = answer_one()\n",
    "    df = (df['Energy Supply'] / df['Energy Supply per Capita']).apply('{:,}'.format)\n",
    "    df.name = 'PopEst'\n",
    "    return df"
   ]
  },
  {
   "cell_type": "code",
   "execution_count": 182,
   "metadata": {
    "deletable": false,
    "editable": false,
    "nbgrader": {
     "cell_type": "code",
     "checksum": "e014781df77c7edab2a181d2d943be8f",
     "grade": true,
     "grade_id": "cell-10fee7228cf973f6",
     "locked": true,
     "points": 6.74,
     "schema_version": 3,
     "solution": false
    }
   },
   "outputs": [],
   "source": [
    "assert type(answer_thirteen()) == pd.Series, \"Q13: You should return a Series!\"\n",
    "\n",
    "assert len(answer_thirteen()) == 15, \"Q13: Wrong result numbers!\"\n"
   ]
  },
  {
   "cell_type": "code",
   "execution_count": 183,
   "metadata": {},
   "outputs": [
    {
     "data": {
      "text/plain": [
       "Country\n",
       "China                 1,367,645,161.2903225\n",
       "United States          317,615,384.61538464\n",
       "Japan                  127,409,395.97315437\n",
       "United Kingdom         63,870,967.741935484\n",
       "Russian Federation            143,500,000.0\n",
       "Canada                  35,239,864.86486486\n",
       "Germany                 80,369,696.96969697\n",
       "India                 1,276,730,769.2307692\n",
       "France                  63,837,349.39759036\n",
       "South Korea            49,805,429.864253394\n",
       "Italy                  59,908,256.880733944\n",
       "Spain                    46,443,396.2264151\n",
       "Iran                    77,075,630.25210084\n",
       "Australia              23,316,017.316017315\n",
       "Brazil                 205,915,254.23728815\n",
       "Name: PopEst, dtype: object"
      ]
     },
     "execution_count": 183,
     "metadata": {},
     "output_type": "execute_result"
    }
   ],
   "source": [
    "answer_thirteen()"
   ]
  },
  {
   "cell_type": "markdown",
   "metadata": {
    "deletable": false,
    "editable": false,
    "nbgrader": {
     "cell_type": "markdown",
     "checksum": "61562b9b667bd5efbcec0dcd7becbfaa",
     "grade": false,
     "grade_id": "cell-998b62d4f390ef15",
     "locked": true,
     "schema_version": 3,
     "solution": false
    }
   },
   "source": [
    "### Optional\n",
    "\n",
    "Use the built in function `plot_optional()` to see an example visualization."
   ]
  },
  {
   "cell_type": "code",
   "execution_count": null,
   "metadata": {
    "deletable": false,
    "editable": false,
    "nbgrader": {
     "cell_type": "code",
     "checksum": "479786c97cb5f34d07231c6d7c602a47",
     "grade": false,
     "grade_id": "cell-741fd55ea57cd40a",
     "locked": true,
     "schema_version": 3,
     "solution": false
    }
   },
   "outputs": [],
   "source": [
    "def plot_optional():\n",
    "    import matplotlib as plt\n",
    "    %matplotlib inline\n",
    "    Top15 = answer_one()\n",
    "    ax = Top15.plot(x='Rank', y='% Renewable', kind='scatter', \n",
    "                    c=['#e41a1c','#377eb8','#e41a1c','#4daf4a','#4daf4a','#377eb8','#4daf4a','#e41a1c',\n",
    "                       '#4daf4a','#e41a1c','#4daf4a','#4daf4a','#e41a1c','#dede00','#ff7f00'], \n",
    "                    xticks=range(1,16), s=6*Top15['2014']/10**10, alpha=.75, figsize=[16,6]);\n",
    "\n",
    "    for i, txt in enumerate(Top15.index):\n",
    "        ax.annotate(txt, [Top15['Rank'][i], Top15['% Renewable'][i]], ha='center')\n",
    "\n",
    "    print(\"This is an example of a visualization that can be created to help understand the data. \\\n",
    "This is a bubble chart showing % Renewable vs. Rank. The size of the bubble corresponds to the countries' \\\n",
    "2014 GDP, and the color corresponds to the continent.\")"
   ]
  },
  {
   "cell_type": "code",
   "execution_count": null,
   "metadata": {},
   "outputs": [],
   "source": [
    "plot_optional()"
   ]
  },
  {
   "cell_type": "code",
   "execution_count": null,
   "metadata": {},
   "outputs": [],
   "source": []
  }
 ],
 "metadata": {
  "anaconda-cloud": {},
  "coursera": {
   "schema_names": [
    "mooc_adswpy_v1_assignment3"
   ]
  },
  "kernelspec": {
   "display_name": "Python 3 (ipykernel)",
   "language": "python",
   "name": "python3"
  },
  "language_info": {
   "codemirror_mode": {
    "name": "ipython",
    "version": 3
   },
   "file_extension": ".py",
   "mimetype": "text/x-python",
   "name": "python",
   "nbconvert_exporter": "python",
   "pygments_lexer": "ipython3",
   "version": "3.10.9"
  }
 },
 "nbformat": 4,
 "nbformat_minor": 4
}
